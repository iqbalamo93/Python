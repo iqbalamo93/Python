{
 "cells": [
  {
   "cell_type": "markdown",
   "metadata": {},
   "source": [
    "# Python Multiprocessing: Run Code in Concurrently Using the Threading Module\n",
    "\n",
    "We usually have two types of tasks:\n",
    "- IO Bound: Waitinng for input and output to be completed \n",
    " - File system operation, file system operation : Threading helps us here!!\n",
    " \n",
    "- CPU Bound:Number crunching: Multiprocessing helps us here!!"
   ]
  },
  {
   "cell_type": "code",
   "execution_count": 27,
   "metadata": {},
   "outputs": [
    {
     "name": "stdout",
     "output_type": "stream",
     "text": [
      "Os Version: #36-Ubuntu SMP Wed Dec 9 09:14:40 UTC 2020\n",
      "Os Version: 3.9.0+\n"
     ]
    }
   ],
   "source": [
    "import platform\n",
    "import time\n",
    "print('Os Version:',platform.version())\n",
    "print('Os Version:',platform.python_version())"
   ]
  },
  {
   "cell_type": "code",
   "execution_count": 34,
   "metadata": {},
   "outputs": [
    {
     "name": "stdout",
     "output_type": "stream",
     "text": [
      "Sleeping 1 second\n",
      "Done sleeping...\n",
      "\n",
      "Sleeping 1 second\n",
      "Done sleeping...\n",
      "\n",
      "Sleeping 1 second\n",
      "Done sleeping...\n",
      "\n"
     ]
    }
   ],
   "source": [
    "def do_someting():\n",
    "    print('Sleeping 1 second')\n",
    "    time.sleep(1)\n",
    "    print('Done sleeping...\\n')\n",
    "do_someting()\n",
    "do_someting()\n",
    "do_someting()"
   ]
  },
  {
   "cell_type": "markdown",
   "metadata": {},
   "source": [
    "<img src='https://github.com/iqbalamo93/Datasets/blob/master/Multiprocessing.png?raw=true'>"
   ]
  },
  {
   "cell_type": "code",
   "execution_count": 40,
   "metadata": {},
   "outputs": [
    {
     "name": "stdout",
     "output_type": "stream",
     "text": [
      "Sleeping 1 second\n",
      "Sleeping 1 second\n",
      "Finished in 0.02 seconds\n",
      "\n",
      "WHAT HAPPEND HERE IS AS P1,P2 STARTED AND THEN CODE MOVED TO NEXT LINE..\n",
      "IT WAS LIKE: GUY'S YOU CARRY ON YOUR TASK I AM MOVING AHEAD!!!\n",
      "\n",
      "\n",
      "Done sleeping...\n",
      "\n",
      "Done sleeping...\n",
      "\n"
     ]
    }
   ],
   "source": [
    "import multiprocessing as mp\n",
    "start = time.perf_counter()\n",
    "p1 = mp.Process(target=do_someting)\n",
    "p2 = mp.Process(target=do_someting)\n",
    "p1.start()\n",
    "p2.start()\n",
    "finish = time.perf_counter()\n",
    "print(f'\\nFinished in {round(finish-start,2)} seconds',end='\\n\\n')\n",
    "text = '''WHAT HAPPEND HERE IS AS P1,P2 STARTED AND THEN CODE MOVED TO NEXT LINE..\n",
    "IT WAS LIKE: GUY'S YOU CARRY ON YOUR TASK I AM MOVING AHEAD!!!\\n'''\n",
    "print(text)"
   ]
  },
  {
   "cell_type": "code",
   "execution_count": 38,
   "metadata": {},
   "outputs": [
    {
     "name": "stdout",
     "output_type": "stream",
     "text": [
      "Sleeping 1 second\n",
      "Sleeping 1 second\n",
      "Done sleeping...\n",
      "\n",
      "Done sleeping...\n",
      "\n",
      "Finished in 1.04 seconds\n",
      "\n",
      "WHAT HAPPEND HERE IS AS P1,P2 STARTED AND ENDED:\n",
      "SYNCHRONOUSLY.JOIN WILL MAKE SURE PROCESS TO FINISH BEFORE MOVING TO NEXT PART!!!\n"
     ]
    }
   ],
   "source": [
    "import multiprocessing as mp\n",
    "start = time.perf_counter()\n",
    "p1 = mp.Process(target=do_someting)\n",
    "p2 = mp.Process(target=do_someting)\n",
    "p1.start()\n",
    "p2.start()\n",
    "p1.join()\n",
    "p2.join()\n",
    "\n",
    "finish = time.perf_counter()\n",
    "print(f'Finished in {round(finish-start,2)} seconds',end='\\n\\n')\n",
    "text='''WHAT HAPPEND HERE IS AS P1,P2 STARTED AND ENDED:\n",
    "SYNCHRONOUSLY.JOIN WILL MAKE SURE PROCESS TO FINISH BEFORE MOVING TO NEXT PART!!!'''\n",
    "print(text)"
   ]
  },
  {
   "cell_type": "code",
   "execution_count": 41,
   "metadata": {},
   "outputs": [
    {
     "name": "stdout",
     "output_type": "stream",
     "text": [
      "Sleeping 1 secondSleeping 1 second\n",
      "\n",
      "Sleeping 1 second\n",
      "Sleeping 1 secondSleeping 1 secondSleeping 1 second\n",
      "Sleeping 1 second\n",
      "Sleeping 1 second\n",
      "Sleeping 1 secondSleeping 1 second\n",
      "\n",
      "\n",
      "\n",
      "Done sleeping...\n",
      "\n",
      "Done sleeping...\n",
      "\n",
      "Done sleeping...\n",
      "\n",
      "Done sleeping...\n",
      "\n",
      "Done sleeping...\n",
      "\n",
      "Done sleeping...\n",
      "Done sleeping...\n",
      "\n",
      "\n",
      "Done sleeping...\n",
      "Done sleeping...\n",
      "Done sleeping...\n",
      "\n",
      "\n",
      "\n",
      "Finished in 1.22 seconds\n",
      "\n"
     ]
    }
   ],
   "source": [
    "start = time.perf_counter()\n",
    "processess = []\n",
    "for _ in range(10):\n",
    "    p = mp.Process(target=do_someting)\n",
    "    p.start()\n",
    "    processess.append(p)\n",
    "    \n",
    "for process in processess:\n",
    "    process.join()\n",
    "finish = time.perf_counter()\n",
    "print(f'Finished in {round(finish-start,2)} seconds',end='\\n\\n')\n",
    "'''Even running 10 times it didn't took 10 seconds, because they were moved to other core.'''"
   ]
  },
  {
   "cell_type": "code",
   "execution_count": 42,
   "metadata": {},
   "outputs": [],
   "source": [
    "def do_someting(seconds):\n",
    "    print(f'Sleeping {seconds} second(s)....')\n",
    "    time.sleep(seconds)\n",
    "    print('Done sleeping...\\n')"
   ]
  },
  {
   "cell_type": "code",
   "execution_count": 43,
   "metadata": {},
   "outputs": [
    {
     "name": "stdout",
     "output_type": "stream",
     "text": [
      "Sleeping 1.5 second(s)....Sleeping 1.5 second(s)....\n",
      "\n",
      "Sleeping 1.5 second(s)....\n",
      "Sleeping 1.5 second(s)....Sleeping 1.5 second(s)....\n",
      "\n",
      "Sleeping 1.5 second(s)....\n",
      "Sleeping 1.5 second(s)....Sleeping 1.5 second(s)....Sleeping 1.5 second(s)....\n",
      "\n",
      "Sleeping 1.5 second(s)....\n",
      "\n",
      "Done sleeping...\n",
      "\n",
      "Done sleeping...\n",
      "\n",
      "Done sleeping...\n",
      "\n",
      "Done sleeping...\n",
      "\n",
      "Done sleeping...\n",
      "\n",
      "Done sleeping...\n",
      "\n",
      "Done sleeping...\n",
      "\n",
      "Done sleeping...\n",
      "Done sleeping...\n",
      "\n",
      "\n",
      "Done sleeping...\n",
      "\n",
      "Finished in 1.7 seconds\n",
      "\n"
     ]
    }
   ],
   "source": [
    "start = time.perf_counter()\n",
    "processess = []\n",
    "for _ in range(10):\n",
    "    p = mp.Process(target=do_someting,args=[1.5])\n",
    "    p.start()\n",
    "    processess.append(p)\n",
    "    \n",
    "for process in processess:\n",
    "    process.join()\n",
    "finish = time.perf_counter()\n",
    "print(f'Finished in {round(finish-start,2)} seconds',end='\\n\\n')"
   ]
  },
  {
   "cell_type": "markdown",
   "metadata": {},
   "source": [
    "### Process Pool executor : using concurrent.futures Module"
   ]
  },
  {
   "cell_type": "code",
   "execution_count": 67,
   "metadata": {},
   "outputs": [],
   "source": [
    "def do_someting(seconds):\n",
    "    print(f'Sleeping {seconds} second(s)....')\n",
    "    time.sleep(seconds)\n",
    "    return 'Done sleeping...\\n'"
   ]
  },
  {
   "cell_type": "code",
   "execution_count": 68,
   "metadata": {},
   "outputs": [],
   "source": [
    "import concurrent.futures "
   ]
  },
  {
   "cell_type": "markdown",
   "metadata": {},
   "source": [
    "## Submit method executes function one at a time\n",
    "\n",
    "- Submit method schedules a function to be executed and returns a <b>future object</b>\n",
    "- Schedules the callable, fn, to be executed as fn(*args **kwargs) and returns a Future object representing the execution of the callable.\n",
    "\n",
    "- Submit method gives future object:\n",
    "- Future Objects :The Future class encapsulates the asynchronous execution of a callable. Future instances are created by Executor.submit().\n",
    "- Methods\n",
    "        -    cancel()\n",
    "        -    running()\n",
    "        -    result()\n",
    "<a herf='https://docs.python.org/3/library/concurrent.futures.html'>Read Here</a>"
   ]
  },
  {
   "cell_type": "code",
   "execution_count": 116,
   "metadata": {},
   "outputs": [
    {
     "name": "stdout",
     "output_type": "stream",
     "text": [
      "Sleeping 1 second(s)....Sleeping 1 second(s)....\n",
      "\n",
      "Sleeping 1 second(s)....\n",
      "Done sleeping...1\n",
      "Done sleeping...1\n",
      "Done sleeping...1\n",
      "Finished in 1.09 seconds\n",
      "\n"
     ]
    }
   ],
   "source": [
    "start = time.perf_counter()\n",
    "with concurrent.futures.ProcessPoolExecutor() as executor:\n",
    "    future_1 = executor.submit(do_someting,1)\n",
    "    future_2 = executor.submit(do_someting,1)\n",
    "    future_3 = executor.submit(do_someting,1)\n",
    "    print(future_1.result())\n",
    "    print(future_2.result())\n",
    "    print(future_3.result())\n",
    "finish = time.perf_counter()\n",
    "print(f'Finished in {round(finish-start,2)} seconds',end='\\n\\n')"
   ]
  },
  {
   "cell_type": "code",
   "execution_count": 117,
   "metadata": {},
   "outputs": [
    {
     "name": "stdout",
     "output_type": "stream",
     "text": [
      "Sleeping 1 second(s)....Sleeping 1 second(s)....\n",
      "\n",
      "Sleeping 1 second(s)....\n",
      "Sleeping 1 second(s)....\n",
      "Sleeping 1 second(s)....\n",
      "Sleeping 1 second(s)....\n",
      "Sleeping 1 second(s)....Sleeping 1 second(s)....\n",
      "\n",
      "Sleeping 1 second(s)....\n",
      "Sleeping 1 second(s)....\n",
      "Finished in 3.08 seconds\n",
      "\n"
     ]
    }
   ],
   "source": [
    "start = time.perf_counter()\n",
    "with concurrent.futures.ProcessPoolExecutor() as executor:\n",
    "    future_states = [executor.submit(do_someting,1) for _ in range(10)] #returnds future state object \n",
    "finish = time.perf_counter()\n",
    "print(f'Finished in {round(finish-start,2)} seconds',end='\\n\\n')"
   ]
  },
  {
   "cell_type": "markdown",
   "metadata": {},
   "source": [
    "## concurrent.futures.as_completed\n",
    "\n",
    "This gives us an iterator that we can loop over that will yeild the results\n",
    "of our prcosess as they are completed"
   ]
  },
  {
   "cell_type": "code",
   "execution_count": 72,
   "metadata": {},
   "outputs": [
    {
     "name": "stdout",
     "output_type": "stream",
     "text": [
      "Sleeping 1 second(s)....Sleeping 1 second(s)....\n",
      "Sleeping 1 second(s)....\n",
      "\n",
      "Sleeping 1 second(s)....\n",
      "Sleeping 1 second(s)....\n",
      "Sleeping 1 second(s)....Sleeping 1 second(s)....\n",
      "\n",
      "Sleeping 1 second(s)....\n",
      "Done sleeping...\n",
      "\n",
      "Done sleeping...\n",
      "\n",
      "Done sleeping...\n",
      "\n",
      "Done sleeping...\n",
      "\n",
      "Sleeping 1 second(s)....\n",
      "Sleeping 1 second(s)....\n",
      "Done sleeping...\n",
      "\n",
      "Done sleeping...\n",
      "\n",
      "Done sleeping...\n",
      "\n",
      "Done sleeping...\n",
      "\n",
      "Done sleeping...\n",
      "\n",
      "Done sleeping...\n",
      "\n",
      "Finished in 3.1 seconds\n",
      "\n"
     ]
    }
   ],
   "source": [
    "start = time.perf_counter()\n",
    "with concurrent.futures.ProcessPoolExecutor() as executor:\n",
    "    Future_states = [executor.submit(do_someting,1) for _ in range(10)]\n",
    "    \n",
    "    for f in concurrent.futures.as_completed(Future_states):# gives the resulst as thet are completed\n",
    "        print(f.result())\n",
    "finish = time.perf_counter()\n",
    "print(f'Finished in {round(finish-start,2)} seconds',end='\\n\\n')"
   ]
  },
  {
   "cell_type": "code",
   "execution_count": 73,
   "metadata": {},
   "outputs": [],
   "source": [
    "def do_someting(seconds):\n",
    "    print(f'Sleeping {seconds} second(s)....')\n",
    "    time.sleep(seconds)\n",
    "    return f'Done sleeping...{seconds}'"
   ]
  },
  {
   "cell_type": "code",
   "execution_count": 74,
   "metadata": {},
   "outputs": [
    {
     "name": "stdout",
     "output_type": "stream",
     "text": [
      "Sleeping 5 second(s)....Sleeping 4 second(s)....\n",
      "\n",
      "Sleeping 3 second(s)....Sleeping 2 second(s)....\n",
      "\n",
      "Sleeping 1 second(s)....\n",
      "Done sleeping...2\n",
      "Done sleeping...3\n",
      "Done sleeping...1\n",
      "Done sleeping...4\n",
      "Done sleeping...5\n",
      "Finished in 5.08 seconds\n",
      "\n"
     ]
    }
   ],
   "source": [
    "start = time.perf_counter()\n",
    "with concurrent.futures.ProcessPoolExecutor() as executor:\n",
    "    secs = [5,4,3,2,1]\n",
    "    results = [executor.submit(do_someting,sec) for sec in secs]\n",
    "    \n",
    "    for f in concurrent.futures.as_completed(results):#results in movement as it's completed\n",
    "        print(f.result())\n",
    "finish = time.perf_counter()\n",
    "print(f'Finished in {round(finish-start,2)} seconds',end='\\n\\n')"
   ]
  },
  {
   "cell_type": "code",
   "execution_count": 61,
   "metadata": {},
   "outputs": [
    {
     "data": {
      "text/plain": [
       "'AS system is of 4 core, it starte 5,4,3,2 first then started 1.'"
      ]
     },
     "execution_count": 61,
     "metadata": {},
     "output_type": "execute_result"
    }
   ],
   "source": [
    "import os\n",
    "os.cpu_count()\n",
    "'''AS system is of 4 core, it starte 5,4,3,2 first then started 1.'''"
   ]
  },
  {
   "cell_type": "markdown",
   "metadata": {},
   "source": [
    "Submit function submits each function one at a time\n",
    "but in order to run submit on a entire list then we need to do map !"
   ]
  },
  {
   "cell_type": "code",
   "execution_count": 77,
   "metadata": {},
   "outputs": [
    {
     "name": "stdout",
     "output_type": "stream",
     "text": [
      "Sleeping 5 second(s)....\n",
      "Sleeping 4 second(s)....\n",
      "Sleeping 3 second(s)....\n",
      "Sleeping 2 second(s)....\n",
      "Sleeping 1 second(s)....\n",
      "Done sleeping...5\n",
      "Done sleeping...4\n",
      "Done sleeping...3\n",
      "Done sleeping...2\n",
      "Done sleeping...1\n",
      "Finished in 5.05 seconds\n",
      "\n"
     ]
    }
   ],
   "source": [
    "start = time.perf_counter()\n",
    "with concurrent.futures.ProcessPoolExecutor() as executor:\n",
    "    secs = [5,4,3,2,1]\n",
    "    results = executor.map(do_someting,secs)#Here map returns the results, in order they were started \n",
    "    for result in results:\n",
    "        print(result)\n",
    "finish = time.perf_counter()\n",
    "print(f'Finished in {round(finish-start,2)} seconds',end='\\n\\n')"
   ]
  },
  {
   "cell_type": "markdown",
   "metadata": {},
   "source": [
    "# Image examples"
   ]
  },
  {
   "cell_type": "code",
   "execution_count": 80,
   "metadata": {},
   "outputs": [],
   "source": [
    "from PIL import Image, ImageFilter"
   ]
  },
  {
   "cell_type": "code",
   "execution_count": 83,
   "metadata": {},
   "outputs": [],
   "source": [
    "images_path = os.path.join('./','MP_IMAGES')"
   ]
  },
  {
   "cell_type": "code",
   "execution_count": 95,
   "metadata": {},
   "outputs": [
    {
     "ename": "FileNotFoundError",
     "evalue": "[Errno 2] No such file or directory: './MP_IMAGES'",
     "output_type": "error",
     "traceback": [
      "\u001b[0;31m---------------------------------------------------------------------------\u001b[0m",
      "\u001b[0;31mFileNotFoundError\u001b[0m                         Traceback (most recent call last)",
      "\u001b[0;32m<ipython-input-95-2c4ef91b31ec>\u001b[0m in \u001b[0;36m<module>\u001b[0;34m\u001b[0m\n\u001b[0;32m----> 1\u001b[0;31m \u001b[0mos\u001b[0m\u001b[0;34m.\u001b[0m\u001b[0mchdir\u001b[0m\u001b[0;34m(\u001b[0m\u001b[0mimages_path\u001b[0m\u001b[0;34m)\u001b[0m\u001b[0;34m\u001b[0m\u001b[0;34m\u001b[0m\u001b[0m\n\u001b[0m\u001b[1;32m      2\u001b[0m \u001b[0mos\u001b[0m\u001b[0;34m.\u001b[0m\u001b[0mmakedirs\u001b[0m\u001b[0;34m(\u001b[0m\u001b[0;34m'./Processed'\u001b[0m\u001b[0;34m)\u001b[0m\u001b[0;34m\u001b[0m\u001b[0;34m\u001b[0m\u001b[0m\n",
      "\u001b[0;31mFileNotFoundError\u001b[0m: [Errno 2] No such file or directory: './MP_IMAGES'"
     ]
    }
   ],
   "source": [
    "os.chdir(images_path)\n",
    "os.makedirs('./Processed')"
   ]
  },
  {
   "cell_type": "code",
   "execution_count": 110,
   "metadata": {},
   "outputs": [],
   "source": [
    "img_names = [file for file in os.listdir() if file.endswith('.jpg') ]"
   ]
  },
  {
   "cell_type": "code",
   "execution_count": 111,
   "metadata": {},
   "outputs": [
    {
     "name": "stdout",
     "output_type": "stream",
     "text": [
      "photo-1532009324734-20a7a5813719.jpg was processed...\n",
      "photo-1513938709626-033611b8cc03.jpg was processed...\n",
      "photo-1549692520-acc6669e2f0c.jpg was processed...\n",
      "photo-1564135624576-c5c88640f235.jpg was processed...\n",
      "photo-1516972810927-80185027ca84.jpg was processed...\n",
      "photo-1530224264768-7ff8c1789d79.jpg was processed...\n",
      "photo-1504198453319-5ce911bafcde.jpg was processed...\n",
      "photo-1516117172878-fd2c41f4a759.jpg was processed...\n",
      "photo-1530122037265-a5f1f91d3b99.jpg was processed...\n",
      "photo-1550439062-609e1531270e.jpg was processed...\n",
      "photo-1522364723953-452d3431c267.jpg was processed...\n",
      "photo-1493976040374-85c8e12f0c0e.jpg was processed...\n",
      "photo-1507143550189-fed454f93097.jpg was processed...\n",
      "photo-1524429656589-6633a470097c.jpg was processed...\n",
      "photo-1541698444083-023c97d3f4b6.jpg was processed...\n",
      "Finished in 43.83 seconds\n",
      "\n"
     ]
    }
   ],
   "source": [
    "size = (1200, 1200)\n",
    "start = time.perf_counter()\n",
    "for img_name in img_names:\n",
    "    img = Image.open(img_name)\n",
    "    img = img.filter(ImageFilter.GaussianBlur(15))\n",
    "    img.thumbnail(size)\n",
    "    img.save(f'Processed/{img_name}')\n",
    "    print(f'{img_name} was processed...')\n",
    "    \n",
    "finish = time.perf_counter()\n",
    "print(f'Finished in {round(finish-start,2)} seconds',end='\\n\\n')"
   ]
  },
  {
   "cell_type": "code",
   "execution_count": 114,
   "metadata": {},
   "outputs": [],
   "source": [
    "def process_image(img_name):\n",
    "    img = Image.open(img_name)\n",
    "    img = img.filter(ImageFilter.GaussianBlur(15))\n",
    "    img.thumbnail(size)\n",
    "    img.save(f'processed/{img_name}')\n",
    "    print(f'{img_name} was processed...')"
   ]
  },
  {
   "cell_type": "code",
   "execution_count": 115,
   "metadata": {},
   "outputs": [
    {
     "name": "stdout",
     "output_type": "stream",
     "text": [
      "Finished in 23.57 seconds\n",
      "\n"
     ]
    }
   ],
   "source": [
    "start = time.perf_counter()\n",
    "with concurrent.futures.ProcessPoolExecutor() as executor:\n",
    "    executor.map(process_image, img_names)\n",
    "finish = time.perf_counter()\n",
    "print(f'Finished in {round(finish-start,2)} seconds',end='\\n\\n')"
   ]
  },
  {
   "cell_type": "markdown",
   "metadata": {},
   "source": [
    "## Revision:\n",
    "#### Process pool executor : concurrent.futures\n",
    "    - Submit method \n",
    "    - submit and as_completed\n",
    "    - map"
   ]
  },
  {
   "cell_type": "code",
   "execution_count": null,
   "metadata": {},
   "outputs": [],
   "source": [
    "# ALSO, IS IT REALLY CPU BOUND NY IO BOUND?"
   ]
  },
  {
   "cell_type": "code",
   "execution_count": 118,
   "metadata": {},
   "outputs": [
    {
     "name": "stdout",
     "output_type": "stream",
     "text": [
      "Finished in 19.95 seconds\n",
      "\n"
     ]
    }
   ],
   "source": [
    "start = time.perf_counter()\n",
    "with concurrent.futures.ThreadPoolExecutor() as executor:\n",
    "    executor.map(process_image, img_names)\n",
    "finish = time.perf_counter()\n",
    "print(f'Finished in {round(finish-start,2)} seconds',end='\\n\\n')"
   ]
  },
  {
   "cell_type": "code",
   "execution_count": null,
   "metadata": {},
   "outputs": [],
   "source": []
  }
 ],
 "metadata": {
  "kernelspec": {
   "display_name": "Python 3",
   "language": "python",
   "name": "python3"
  },
  "language_info": {
   "codemirror_mode": {
    "name": "ipython",
    "version": 3
   },
   "file_extension": ".py",
   "mimetype": "text/x-python",
   "name": "python",
   "nbconvert_exporter": "python",
   "pygments_lexer": "ipython3",
   "version": "3.9.0+"
  }
 },
 "nbformat": 4,
 "nbformat_minor": 4
}
