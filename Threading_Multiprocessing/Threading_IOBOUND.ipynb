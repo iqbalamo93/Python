{
 "cells": [
  {
   "cell_type": "markdown",
   "metadata": {},
   "source": [
    "# Python Threading: Run Code in Parallel Using the Multiprocessing Module\n",
    "\n",
    "\n",
    "We usually have two types of tasks:\n",
    "- IO Bound: Waitinng for input and output to be completed \n",
    " - File system operation, file system operation: Threading helps us here!!\n",
    " \n",
    "- CPU Bound:Number crunching: Multiprocessing helps us here!!"
   ]
  },
  {
   "cell_type": "code",
   "execution_count": 6,
   "metadata": {},
   "outputs": [
    {
     "name": "stdout",
     "output_type": "stream",
     "text": [
      "Os Version: #36-Ubuntu SMP Wed Dec 9 09:14:40 UTC 2020\n",
      "Os Version: 3.9.0+\n"
     ]
    }
   ],
   "source": [
    "import platform\n",
    "import time\n",
    "print('Os Version:',platform.version())\n",
    "print('Os Version:',platform.python_version())"
   ]
  },
  {
   "cell_type": "code",
   "execution_count": 7,
   "metadata": {},
   "outputs": [
    {
     "name": "stdout",
     "output_type": "stream",
     "text": [
      "Sleeping 1 second\n",
      "Done sleeping...\n",
      "\n",
      "Sleeping 1 second\n",
      "Done sleeping...\n",
      "\n"
     ]
    }
   ],
   "source": [
    "def do_someting():\n",
    "    print('Sleeping 1 second')\n",
    "    time.sleep(1)\n",
    "    print('Done sleeping...\\n')\n",
    "do_someting()\n",
    "do_someting()\n"
   ]
  },
  {
   "cell_type": "markdown",
   "metadata": {},
   "source": [
    "<img src='https://github.com/iqbalamo93/Datasets/blob/master/Threading.png?raw=true'>\n",
    "\n",
    "- Start function 1,Then let it run.Moment you start function1, run function 2.\n",
    "\n",
    "- We do not wait func1 to finish to start func 2.\n"
   ]
  },
  {
   "cell_type": "code",
   "execution_count": 8,
   "metadata": {},
   "outputs": [
    {
     "name": "stdout",
     "output_type": "stream",
     "text": [
      "Sleeping 1 second\n",
      "Sleeping 1 second\n",
      "\n",
      "Finished in 0.0 seconds\n",
      "\n",
      "WHAT HAPPEND HERE IS AS t1,t2 STARTED AND THEN CODE MOVED TO NEXT LINE..\n",
      "IT WAS LIKE: GUY'S YOU CARRY ON YOUR TASK I AM MOVING AHEAD!!!\n",
      "\n",
      "Done sleeping...\n",
      "\n",
      "Done sleeping...\n",
      "\n"
     ]
    }
   ],
   "source": [
    "import threading as tr\n",
    "start = time.perf_counter()\n",
    "t1 = tr.Thread(target=do_someting)\n",
    "t2 = tr.Thread(target=do_someting)\n",
    "t1.start()\n",
    "t2.start()\n",
    "finish = time.perf_counter()\n",
    "print(f'\\nFinished in {round(finish-start,2)} seconds',end='\\n\\n')\n",
    "text = '''WHAT HAPPEND HERE IS AS t1,t2 STARTED AND THEN CODE MOVED TO NEXT LINE..\n",
    "IT WAS LIKE: GUY'S YOU CARRY ON YOUR TASK I AM MOVING AHEAD!!!\\n'''\n",
    "print(text)"
   ]
  },
  {
   "cell_type": "code",
   "execution_count": 10,
   "metadata": {},
   "outputs": [
    {
     "name": "stdout",
     "output_type": "stream",
     "text": [
      "Sleeping 1 second\n",
      "Sleeping 1 second\n",
      "Done sleeping...\n",
      "\n",
      "Done sleeping...\n",
      "\n",
      "Finished in 1.0 seconds\n",
      "\n",
      "WHAT HAPPEND HERE IS AS t1,t2 STARTED AND ENDED:SYNCHRONOUSLY.\n",
      "JOIN WILL MAKE SURE PROCESS TO FINISH BEFORE MOVING TO NEXT PART!!!\n"
     ]
    }
   ],
   "source": [
    "start = time.perf_counter()\n",
    "t1 = tr.Thread(target=do_someting)\n",
    "t2 = tr.Thread(target=do_someting)\n",
    "t1.start()\n",
    "t2.start()\n",
    "t1.join()\n",
    "t2.join()\n",
    "finish = time.perf_counter()\n",
    "\n",
    "print(f'Finished in {round(finish-start,2)} seconds',end='\\n\\n')\n",
    "text='''WHAT HAPPEND HERE IS AS t1,t2 STARTED AND ENDED:SYNCHRONOUSLY.\n",
    "JOIN WILL MAKE SURE PROCESS TO FINISH BEFORE MOVING TO NEXT PART!!!'''\n",
    "print(text)"
   ]
  },
  {
   "cell_type": "code",
   "execution_count": 12,
   "metadata": {},
   "outputs": [
    {
     "name": "stdout",
     "output_type": "stream",
     "text": [
      "Sleeping 1 second\n",
      "Sleeping 1 second\n",
      "Sleeping 1 second\n",
      "Sleeping 1 secondSleeping 1 second\n",
      "\n",
      "Sleeping 1 second\n",
      "Sleeping 1 second\n",
      "Sleeping 1 secondSleeping 1 second\n",
      "\n",
      "Sleeping 1 second\n",
      "Done sleeping...\n",
      "\n",
      "Done sleeping...\n",
      "Done sleeping...\n",
      "\n",
      "\n",
      "Done sleeping...\n",
      "\n",
      "Done sleeping...\n",
      "Done sleeping...\n",
      "\n",
      "\n",
      "Done sleeping...\n",
      "\n",
      "Done sleeping...\n",
      "\n",
      "Done sleeping...\n",
      "Done sleeping...\n",
      "\n",
      "\n",
      "Finished in 1.01 seconds\n",
      "\n"
     ]
    },
    {
     "data": {
      "text/plain": [
       "\"Even running 10 times it didn't took 10 seconds, because they were moved to other core.\""
      ]
     },
     "execution_count": 12,
     "metadata": {},
     "output_type": "execute_result"
    }
   ],
   "source": [
    "start = time.perf_counter()\n",
    "threads = []\n",
    "for _ in range(10):\n",
    "    t = tr.Thread(target=do_someting)\n",
    "    t.start()\n",
    "    threads.append(t)\n",
    "    \n",
    "for thread in threads:\n",
    "    thread.join()\n",
    "finish = time.perf_counter()\n",
    "print(f'Finished in {round(finish-start,2)} seconds',end='\\n\\n')\n",
    "'''Even running 10 times it didn't took 10 seconds, because they were moved to other core.'''"
   ]
  },
  {
   "cell_type": "code",
   "execution_count": 14,
   "metadata": {},
   "outputs": [],
   "source": [
    "def do_someting(seconds):\n",
    "    print(f'Sleeping {seconds} second(s)....')\n",
    "    time.sleep(seconds)\n",
    "    print('Done sleeping...\\n')"
   ]
  },
  {
   "cell_type": "code",
   "execution_count": 16,
   "metadata": {},
   "outputs": [
    {
     "name": "stdout",
     "output_type": "stream",
     "text": [
      "Sleeping 1.5 second(s)....\n",
      "Sleeping 1.5 second(s)....\n",
      "Sleeping 1.5 second(s)....\n",
      "Sleeping 1.5 second(s)....\n",
      "Sleeping 1.5 second(s)....Sleeping 1.5 second(s)....\n",
      "\n",
      "Sleeping 1.5 second(s)....Sleeping 1.5 second(s)....\n",
      "\n",
      "Sleeping 1.5 second(s)....\n",
      "Sleeping 1.5 second(s)....\n",
      "Done sleeping...\n",
      "\n",
      "Done sleeping...\n",
      "\n",
      "Done sleeping...\n",
      "\n",
      "Done sleeping...\n",
      "\n",
      "Done sleeping...\n",
      "\n",
      "Done sleeping...\n",
      "Done sleeping...\n",
      "Done sleeping...\n",
      "\n",
      "\n",
      "\n",
      "Done sleeping...\n",
      "\n",
      "Done sleeping...\n",
      "\n",
      "Finished in 1.52 seconds\n",
      "\n"
     ]
    }
   ],
   "source": [
    "start = time.perf_counter()\n",
    "threads = []\n",
    "for _ in range(10):\n",
    "    t = tr.Thread(target=do_someting,args=[1.5])\n",
    "    t.start()\n",
    "    threads.append(t)\n",
    "    \n",
    "for thread in threads:\n",
    "    thread.join()\n",
    "finish = time.perf_counter()\n",
    "print(f'Finished in {round(finish-start,2)} seconds',end='\\n\\n')"
   ]
  },
  {
   "cell_type": "markdown",
   "metadata": {},
   "source": [
    "### Thread Pool executor : Using concurrent.futures Module"
   ]
  },
  {
   "cell_type": "code",
   "execution_count": 18,
   "metadata": {},
   "outputs": [],
   "source": [
    "def do_someting(seconds):\n",
    "    print(f'Sleeping {seconds} second(s)....')\n",
    "    time.sleep(seconds)\n",
    "    return 'Done sleeping...\\n'"
   ]
  },
  {
   "cell_type": "code",
   "execution_count": 19,
   "metadata": {},
   "outputs": [],
   "source": [
    "import concurrent.futures "
   ]
  },
  {
   "cell_type": "markdown",
   "metadata": {},
   "source": [
    "## Submit method executes function one at a time\n",
    "\n",
    "- Submit method schedules a function to be executed and returns a <b>future object</b>\n",
    "- Schedules the callable, fn, to be executed as fn(*args **kwargs) and returns a Future object representing the execution of the callable.\n",
    "\n",
    "- Submit method gives future object:\n",
    "- Future Objects :The Future class encapsulates the asynchronous execution of a callable. Future instances are created by Executor.submit().\n",
    "- Methods\n",
    "        -    cancel()\n",
    "        -    running()\n",
    "        -    result()\n",
    "<a herf='https://docs.python.org/3/library/concurrent.futures.html'>Read Here</a>"
   ]
  },
  {
   "cell_type": "code",
   "execution_count": 20,
   "metadata": {},
   "outputs": [
    {
     "name": "stdout",
     "output_type": "stream",
     "text": [
      "Sleeping 1 second(s)....\n",
      "Sleeping 1 second(s)....\n",
      "Sleeping 1 second(s)....\n",
      "Done sleeping...\n",
      "\n",
      "Done sleeping...\n",
      "\n",
      "Done sleeping...\n",
      "\n",
      "Finished in 1.09 seconds\n",
      "\n"
     ]
    }
   ],
   "source": [
    "start = time.perf_counter()\n",
    "with concurrent.futures.ThreadPoolExecutor() as executor:\n",
    "    future_1 = executor.submit(do_someting,1)\n",
    "    future_2 = executor.submit(do_someting,1)\n",
    "    future_3 = executor.submit(do_someting,1)\n",
    "    print(future_1.result())\n",
    "    print(future_2.result())\n",
    "    print(future_3.result())\n",
    "finish = time.perf_counter()\n",
    "print(f'Finished in {round(finish-start,2)} seconds',end='\\n\\n')"
   ]
  },
  {
   "cell_type": "code",
   "execution_count": 117,
   "metadata": {},
   "outputs": [
    {
     "name": "stdout",
     "output_type": "stream",
     "text": [
      "Sleeping 1 second(s)....Sleeping 1 second(s)....\n",
      "\n",
      "Sleeping 1 second(s)....\n",
      "Sleeping 1 second(s)....\n",
      "Sleeping 1 second(s)....\n",
      "Sleeping 1 second(s)....\n",
      "Sleeping 1 second(s)....Sleeping 1 second(s)....\n",
      "\n",
      "Sleeping 1 second(s)....\n",
      "Sleeping 1 second(s)....\n",
      "Finished in 3.08 seconds\n",
      "\n"
     ]
    }
   ],
   "source": [
    "start = time.perf_counter()\n",
    "with concurrent.futures.ProcessPoolExecutor() as executor:\n",
    "    future_states = [executor.submit(do_someting,1) for _ in range(10)] #returnds future state object \n",
    "finish = time.perf_counter()\n",
    "print(f'Finished in {round(finish-start,2)} seconds',end='\\n\\n')"
   ]
  },
  {
   "cell_type": "markdown",
   "metadata": {},
   "source": [
    "## concurrent.futures.as_completed\n",
    "\n",
    "This gives us an iterator that we can loop over that will yeild the results\n",
    "of our prcosess as they are completed"
   ]
  },
  {
   "cell_type": "code",
   "execution_count": 21,
   "metadata": {},
   "outputs": [
    {
     "name": "stdout",
     "output_type": "stream",
     "text": [
      "Sleeping 1 second(s)....\n",
      "Sleeping 1 second(s)....\n",
      "Sleeping 1 second(s)....Sleeping 1 second(s)....\n",
      "\n",
      "Sleeping 1 second(s)....\n",
      "Sleeping 1 second(s)....Sleeping 1 second(s)....\n",
      "Sleeping 1 second(s)....\n",
      "\n",
      "Done sleeping...\n",
      "\n",
      "Done sleeping...\n",
      "\n",
      "Done sleeping...\n",
      "\n",
      "Done sleeping...\n",
      "\n",
      "Sleeping 1 second(s)....\n",
      "Sleeping 1 second(s)....\n",
      "Done sleeping...\n",
      "\n",
      "Done sleeping...\n",
      "\n",
      "Done sleeping...\n",
      "\n",
      "Done sleeping...\n",
      "\n",
      "Done sleeping...\n",
      "\n",
      "Done sleeping...\n",
      "\n",
      "Finished in 3.38 seconds\n",
      "\n"
     ]
    }
   ],
   "source": [
    "start = time.perf_counter()\n",
    "with concurrent.futures.ProcessPoolExecutor() as executor:\n",
    "    Future_states = [executor.submit(do_someting,1) for _ in range(10)]\n",
    "    \n",
    "    for f in concurrent.futures.as_completed(Future_states):# gives iterator: the results as they are completed\n",
    "        print(f.result())\n",
    "finish = time.perf_counter()\n",
    "print(f'Finished in {round(finish-start,2)} seconds',end='\\n\\n')"
   ]
  },
  {
   "cell_type": "code",
   "execution_count": 23,
   "metadata": {},
   "outputs": [],
   "source": [
    "def do_someting(seconds):\n",
    "    print(f'Sleeping {seconds} second(s)....')\n",
    "    time.sleep(seconds)\n",
    "    return f'Done sleeping...{seconds}'"
   ]
  },
  {
   "cell_type": "code",
   "execution_count": 25,
   "metadata": {},
   "outputs": [
    {
     "name": "stdout",
     "output_type": "stream",
     "text": [
      "Sleeping 5 second(s)....\n",
      "Sleeping 3 second(s)....Sleeping 4 second(s)....\n",
      "\n",
      "Sleeping 2 second(s)....\n",
      "Sleeping 1 second(s)....\n",
      "Done sleeping...2\n",
      "Done sleeping...3\n",
      "Done sleeping...1\n",
      "Done sleeping...4\n",
      "Done sleeping...5\n",
      "Finished in 5.04 seconds\n",
      "\n"
     ]
    }
   ],
   "source": [
    "start = time.perf_counter()\n",
    "with concurrent.futures.ProcessPoolExecutor() as executor:\n",
    "    secs = [5,4,3,2,1]\n",
    "    results = [executor.submit(do_someting,sec) for sec in secs]\n",
    "    \n",
    "    for f in concurrent.futures.as_completed(results):#results in movement as it's completed\n",
    "        print(f.result())\n",
    "finish = time.perf_counter()\n",
    "print(f'Finished in {round(finish-start,2)} seconds',end='\\n\\n')"
   ]
  },
  {
   "cell_type": "markdown",
   "metadata": {},
   "source": [
    "Submit function submits each function one at a time\n",
    "but in order to run submit on a entire list then we need to do map !"
   ]
  },
  {
   "cell_type": "code",
   "execution_count": 33,
   "metadata": {},
   "outputs": [
    {
     "name": "stdout",
     "output_type": "stream",
     "text": [
      "Sleeping 4 second(s)....\n",
      "Sleeping 5 second(s)....Sleeping 3 second(s)....\n",
      "\n",
      "Sleeping 2 second(s)....\n",
      "Sleeping 1 second(s)....\n",
      "Finished in 5.06 seconds\n",
      "\n"
     ]
    }
   ],
   "source": [
    "start = time.perf_counter()\n",
    "with concurrent.futures.ProcessPoolExecutor() as executor:\n",
    "    secs = [5,4,3,2,1]\n",
    "    results = executor.map(do_someting,secs)#Here map returns the results, in order they were started \n",
    "    for result in results:\n",
    "        print(result)\n",
    "finish = time.perf_counter()\n",
    "print(f'Finished in {round(finish-start,2)} seconds',end='\\n\\n')"
   ]
  },
  {
   "cell_type": "code",
   "execution_count": 35,
   "metadata": {},
   "outputs": [
    {
     "data": {
      "text/plain": [
       "<generator object _chain_from_iterable_of_lists at 0x7fc57e9417b0>"
      ]
     },
     "execution_count": 35,
     "metadata": {},
     "output_type": "execute_result"
    }
   ],
   "source": [
    "results"
   ]
  },
  {
   "cell_type": "markdown",
   "metadata": {},
   "source": [
    "# Image download examples"
   ]
  },
  {
   "cell_type": "code",
   "execution_count": 46,
   "metadata": {},
   "outputs": [],
   "source": [
    "import requests\n",
    "import time\n",
    "import concurrent.futures"
   ]
  },
  {
   "cell_type": "code",
   "execution_count": 47,
   "metadata": {},
   "outputs": [],
   "source": [
    "img_urls = [\n",
    "    'https://images.unsplash.com/photo-1516117172878-fd2c41f4a759',\n",
    "    'https://images.unsplash.com/photo-1532009324734-20a7a5813719',\n",
    "    'https://images.unsplash.com/photo-1524429656589-6633a470097c',\n",
    "    'https://images.unsplash.com/photo-1530224264768-7ff8c1789d79',\n",
    "    'https://images.unsplash.com/photo-1564135624576-c5c88640f235',\n",
    "    'https://images.unsplash.com/photo-1541698444083-023c97d3f4b6',\n",
    "    'https://images.unsplash.com/photo-1522364723953-452d3431c267',\n",
    "    'https://images.unsplash.com/photo-1513938709626-033611b8cc03',\n",
    "    'https://images.unsplash.com/photo-1507143550189-fed454f93097',\n",
    "    'https://images.unsplash.com/photo-1493976040374-85c8e12f0c0e',\n",
    "    'https://images.unsplash.com/photo-1504198453319-5ce911bafcde',\n",
    "    'https://images.unsplash.com/photo-1530122037265-a5f1f91d3b99',\n",
    "    'https://images.unsplash.com/photo-1516972810927-80185027ca84',\n",
    "    'https://images.unsplash.com/photo-1550439062-609e1531270e',\n",
    "    'https://images.unsplash.com/photo-1549692520-acc6669e2f0c'\n",
    "]"
   ]
  },
  {
   "cell_type": "code",
   "execution_count": 48,
   "metadata": {},
   "outputs": [
    {
     "name": "stdout",
     "output_type": "stream",
     "text": [
      "photo-1516117172878-fd2c41f4a759.jpg was downloaded...\n",
      "photo-1532009324734-20a7a5813719.jpg was downloaded...\n",
      "photo-1524429656589-6633a470097c.jpg was downloaded...\n",
      "photo-1530224264768-7ff8c1789d79.jpg was downloaded...\n",
      "photo-1564135624576-c5c88640f235.jpg was downloaded...\n",
      "photo-1541698444083-023c97d3f4b6.jpg was downloaded...\n",
      "photo-1522364723953-452d3431c267.jpg was downloaded...\n",
      "photo-1513938709626-033611b8cc03.jpg was downloaded...\n",
      "photo-1507143550189-fed454f93097.jpg was downloaded...\n",
      "photo-1493976040374-85c8e12f0c0e.jpg was downloaded...\n",
      "photo-1504198453319-5ce911bafcde.jpg was downloaded...\n",
      "photo-1530122037265-a5f1f91d3b99.jpg was downloaded...\n",
      "photo-1516972810927-80185027ca84.jpg was downloaded...\n",
      "photo-1550439062-609e1531270e.jpg was downloaded...\n",
      "photo-1549692520-acc6669e2f0c.jpg was downloaded...\n",
      "Finished in 30.85 seconds\n",
      "\n"
     ]
    }
   ],
   "source": [
    "start = time.perf_counter()\n",
    "for img_url in img_urls:\n",
    "    img_bytes = requests.get(img_url).content\n",
    "    img_name = img_url.split('/')[3]\n",
    "    img_name = f'{img_name}.jpg'\n",
    "    with open(img_name, 'wb') as img_file:\n",
    "        img_file.write(img_bytes)\n",
    "        print(f'{img_name} was downloaded...')\n",
    "finish = time.perf_counter()\n",
    "print(f'Finished in {round(finish-start,2)} seconds',end='\\n\\n')"
   ]
  },
  {
   "cell_type": "code",
   "execution_count": 45,
   "metadata": {},
   "outputs": [],
   "source": [
    "os.chdir('./Downloaded_images')"
   ]
  },
  {
   "cell_type": "code",
   "execution_count": 49,
   "metadata": {},
   "outputs": [],
   "source": [
    "def download_image(img_url):\n",
    "    img_bytes = requests.get(img_url).content\n",
    "    img_name = img_url.split('/')[3]\n",
    "    img_name = f'{img_name}.jpg'\n",
    "    with open(img_name, 'wb') as img_file:\n",
    "        img_file.write(img_bytes)\n",
    "        print(f'{img_name} was downloaded...')"
   ]
  },
  {
   "cell_type": "code",
   "execution_count": 50,
   "metadata": {},
   "outputs": [
    {
     "name": "stdout",
     "output_type": "stream",
     "text": [
      "photo-1516117172878-fd2c41f4a759.jpg was downloaded...\n",
      "photo-1564135624576-c5c88640f235.jpg was downloaded...\n",
      "photo-1507143550189-fed454f93097.jpg was downloaded...\n",
      "photo-1530224264768-7ff8c1789d79.jpg was downloaded...\n",
      "photo-1513938709626-033611b8cc03.jpg was downloaded...\n",
      "photo-1524429656589-6633a470097c.jpg was downloaded...\n",
      "photo-1522364723953-452d3431c267.jpg was downloaded...\n",
      "photo-1532009324734-20a7a5813719.jpg was downloaded...\n",
      "photo-1504198453319-5ce911bafcde.jpg was downloaded...\n",
      "photo-1541698444083-023c97d3f4b6.jpg was downloaded...\n",
      "photo-1549692520-acc6669e2f0c.jpg was downloaded...\n",
      "photo-1530122037265-a5f1f91d3b99.jpg was downloaded...\n",
      "photo-1516972810927-80185027ca84.jpg was downloaded...\n",
      "photo-1493976040374-85c8e12f0c0e.jpg was downloaded...\n",
      "photo-1550439062-609e1531270e.jpg was downloaded...\n",
      "Finished in 26.8 seconds\n",
      "\n"
     ]
    }
   ],
   "source": [
    "start = time.perf_counter()\n",
    "with concurrent.futures.ThreadPoolExecutor() as executor:\n",
    "    executor.map(download_image, img_urls)\n",
    "finish=time.perf_counter()\n",
    "print(f'Finished in {round(finish-start,2)} seconds',end='\\n\\n')"
   ]
  },
  {
   "cell_type": "markdown",
   "metadata": {},
   "source": [
    "## Revision:\n",
    "#### Process pool executor : concurrent.futures\n",
    "    - Submit method \n",
    "    - submit and as_completed\n",
    "    - map"
   ]
  },
  {
   "cell_type": "code",
   "execution_count": null,
   "metadata": {},
   "outputs": [],
   "source": [
    "# ALSO, IS IT REALLY CPU BOUND NOT IO BOUND?"
   ]
  },
  {
   "cell_type": "code",
   "execution_count": 51,
   "metadata": {},
   "outputs": [
    {
     "name": "stdout",
     "output_type": "stream",
     "text": [
      "photo-1516117172878-fd2c41f4a759.jpg was downloaded...\n",
      "photo-1530224264768-7ff8c1789d79.jpg was downloaded...\n",
      "photo-1564135624576-c5c88640f235.jpg was downloaded...\n",
      "photo-1532009324734-20a7a5813719.jpg was downloaded...\n",
      "photo-1524429656589-6633a470097c.jpg was downloaded...\n",
      "photo-1541698444083-023c97d3f4b6.jpg was downloaded...\n",
      "photo-1507143550189-fed454f93097.jpg was downloaded...\n",
      "photo-1522364723953-452d3431c267.jpg was downloaded...\n",
      "photo-1513938709626-033611b8cc03.jpg was downloaded...\n",
      "photo-1504198453319-5ce911bafcde.jpg was downloaded...\n",
      "photo-1530122037265-a5f1f91d3b99.jpg was downloaded...\n",
      "photo-1493976040374-85c8e12f0c0e.jpg was downloaded...\n",
      "photo-1516972810927-80185027ca84.jpg was downloaded...\n",
      "photo-1549692520-acc6669e2f0c.jpg was downloaded...\n",
      "photo-1550439062-609e1531270e.jpg was downloaded...\n",
      "Finished in 26.43 seconds\n",
      "\n"
     ]
    }
   ],
   "source": [
    "start = time.perf_counter()\n",
    "with concurrent.futures.ProcessPoolExecutor() as executor:\n",
    "    executor.map(download_image, img_urls)\n",
    "finish = time.perf_counter()\n",
    "print(f'Finished in {round(finish-start,2)} seconds',end='\\n\\n')"
   ]
  }
 ],
 "metadata": {
  "kernelspec": {
   "display_name": "Python 3",
   "language": "python",
   "name": "python3"
  },
  "language_info": {
   "codemirror_mode": {
    "name": "ipython",
    "version": 3
   },
   "file_extension": ".py",
   "mimetype": "text/x-python",
   "name": "python",
   "nbconvert_exporter": "python",
   "pygments_lexer": "ipython3",
   "version": "3.9.0+"
  }
 },
 "nbformat": 4,
 "nbformat_minor": 4
}
