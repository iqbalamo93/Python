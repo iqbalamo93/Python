{
  "nbformat": 4,
  "nbformat_minor": 0,
  "metadata": {
    "colab": {
      "name": "Ineuron.ai python.ipynb",
      "provenance": [],
      "collapsed_sections": []
    },
    "kernelspec": {
      "name": "python3",
      "display_name": "Python 3"
    }
  },
  "cells": [
    {
      "cell_type": "markdown",
      "metadata": {
        "id": "Bd-FvkNa60C-",
        "colab_type": "text"
      },
      "source": [
        "These are questions and submissions pertaing to [ineuron.ai](https://ineuron.ai/). Assignment. Overall, it's good for beginner to have hands on these questions and makes you to tackle DS.\n",
        "\n",
        "There are 4 assignments pertaining to Python modules, all four has been done here-in."
      ]
    },
    {
      "cell_type": "markdown",
      "metadata": {
        "id": "50xuVw9CAXB6",
        "colab_type": "text"
      },
      "source": [
        "# Assignment 1"
      ]
    },
    {
      "cell_type": "markdown",
      "metadata": {
        "id": "-UUgnHtk7XSq",
        "colab_type": "text"
      },
      "source": [
        "Q1: Write a program which will find all such numbers which are divisible by 7 but are not a multiple of 5, between 2000 and 3200 (both included). The numbers obtained should be printed in a comma-separated sequence on a single line."
      ]
    },
    {
      "cell_type": "code",
      "metadata": {
        "id": "aYOZPgJQ5Hs9",
        "colab_type": "code",
        "colab": {}
      },
      "source": [
        "import numpy as np\n",
        "def Svn_not_five():\n",
        "  return[num_7  for num_7 in range(2000,3201) if (num_7%7==0) and (num_7%5!=0)]"
      ],
      "execution_count": 1,
      "outputs": []
    },
    {
      "cell_type": "code",
      "metadata": {
        "id": "WsocuBsN6xGf",
        "colab_type": "code",
        "colab": {
          "base_uri": "https://localhost:8080/",
          "height": 35
        },
        "outputId": "2b5e4002-97c9-4612-80dd-86a55ba9f3fc"
      },
      "source": [
        "#Testing it , will select random numbers from here\n",
        "np.random.choice(Svn_not_five(),10)%7,sum([x for x in np.array(Svn_not_five())%5==0])"
      ],
      "execution_count": 2,
      "outputs": [
        {
          "output_type": "execute_result",
          "data": {
            "text/plain": [
              "(array([0, 0, 0, 0, 0, 0, 0, 0, 0, 0]), 0)"
            ]
          },
          "metadata": {
            "tags": []
          },
          "execution_count": 2
        }
      ]
    },
    {
      "cell_type": "markdown",
      "metadata": {
        "id": "6Cp2gfae8A-x",
        "colab_type": "text"
      },
      "source": [
        "Q2. Write a Python program to accept the user's first and last name and then getting them printed in the the reverse order with a space between first name and last name."
      ]
    },
    {
      "cell_type": "code",
      "metadata": {
        "id": "aTvMFhWf5SJX",
        "colab_type": "code",
        "colab": {}
      },
      "source": [
        "'''I have tried to create a function, that has few additional flovour\n",
        "1. If user wants to reverse order of fisrst and last name\n",
        "2. Else, by default it just prints Lat and first name  '''\n",
        "def name_shuffle(characters=False):\n",
        "  first = str(input('What\\'s your name:'))\n",
        "  last =  str(input('What\\'s your name:'))\n",
        "  if characters:\n",
        "    first=first[::-1]\n",
        "    last=last[::-1]\n",
        "    return last+' '+first\n",
        "  else:\n",
        "    return last+' '+first"
      ],
      "execution_count": 3,
      "outputs": []
    },
    {
      "cell_type": "code",
      "metadata": {
        "id": "OM1aSWXJ8jMR",
        "colab_type": "code",
        "colab": {
          "base_uri": "https://localhost:8080/",
          "height": 70
        },
        "outputId": "8a2d87ab-af01-4ace-eb55-2ac9cd19c55e"
      },
      "source": [
        "#Testing for default behaviour:\n",
        "name_shuffle()"
      ],
      "execution_count": 4,
      "outputs": [
        {
          "output_type": "stream",
          "text": [
            "What's your name:Jonas\n",
            "What's your name:Kannwal\n"
          ],
          "name": "stdout"
        },
        {
          "output_type": "execute_result",
          "data": {
            "application/vnd.google.colaboratory.intrinsic+json": {
              "type": "string"
            },
            "text/plain": [
              "'Kannwal Jonas'"
            ]
          },
          "metadata": {
            "tags": []
          },
          "execution_count": 4
        }
      ]
    },
    {
      "cell_type": "code",
      "metadata": {
        "id": "T5wCenEV8z3-",
        "colab_type": "code",
        "colab": {
          "base_uri": "https://localhost:8080/",
          "height": 70
        },
        "outputId": "91c13557-cba6-4e38-d337-cab05e1a2cdd"
      },
      "source": [
        "#Well defaul behaviour is in line i.e lastname first and fistname second\n",
        "#Testing for reversing charecters too:\n",
        "name_shuffle(characters=True)"
      ],
      "execution_count": 5,
      "outputs": [
        {
          "output_type": "stream",
          "text": [
            "What's your name:Jonas\n",
            "What's your name:Kannwal\n"
          ],
          "name": "stdout"
        },
        {
          "output_type": "execute_result",
          "data": {
            "application/vnd.google.colaboratory.intrinsic+json": {
              "type": "string"
            },
            "text/plain": [
              "'lawnnaK sanoJ'"
            ]
          },
          "metadata": {
            "tags": []
          },
          "execution_count": 5
        }
      ]
    },
    {
      "cell_type": "markdown",
      "metadata": {
        "id": "fAZrgzzf9T8k",
        "colab_type": "text"
      },
      "source": [
        "Q3: Write a Python program to find the volume of a sphere with diameter 12 cm.\n",
        "Even it asks for 12 cm, a programmer must think of modularity and resualbilty of code, So i will focus to make a function where user puts diameter, Default value is 12cm"
      ]
    },
    {
      "cell_type": "code",
      "metadata": {
        "id": "DNpT3GW69oqV",
        "colab_type": "code",
        "colab": {}
      },
      "source": [
        "from math import pi\n",
        "def VolumeSphere(Diameter=12):\n",
        "  radius = Diameter/2\n",
        "  return f'{(4/3)*pi*(radius*radius*radius):.2f} Cm\\N{SUPERSCRIPT THREE}'"
      ],
      "execution_count": 6,
      "outputs": []
    },
    {
      "cell_type": "code",
      "metadata": {
        "id": "KxZEa1QM9tTZ",
        "colab_type": "code",
        "colab": {
          "base_uri": "https://localhost:8080/",
          "height": 35
        },
        "outputId": "0c79b7f0-e697-4fa7-f114-4badbc646f39"
      },
      "source": [
        "#Testing for default and 68 dia\n",
        "VolumeSphere(),VolumeSphere(68)"
      ],
      "execution_count": 7,
      "outputs": [
        {
          "output_type": "execute_result",
          "data": {
            "text/plain": [
              "('904.78 Cm³', '164636.21 Cm³')"
            ]
          },
          "metadata": {
            "tags": []
          },
          "execution_count": 7
        }
      ]
    },
    {
      "cell_type": "markdown",
      "metadata": {
        "id": "yc6g-stzAksL",
        "colab_type": "text"
      },
      "source": [
        "# Assignment 2"
      ]
    },
    {
      "cell_type": "markdown",
      "metadata": {
        "id": "yAVcTe0TBVbe",
        "colab_type": "text"
      },
      "source": [
        "Q1: Create the below pattern using nested for loop in Python.\n",
        "\n",
        "![Stars](https://github.com/iqbalamo93/Datasets/blob/f4331b2038e0562b3633f8d02d6e68bb0b0bc890/Stars.JPG?raw=true)\n",
        "\n",
        "I have tacked thsi problem in teo ways. 1 Simple textbook normal way other more functional and use case, Lets see:\n",
        "\n",
        "Case 1: Where use passes the max length of the stars and function tries to reach that lenth and then decreases."
      ]
    },
    {
      "cell_type": "code",
      "metadata": {
        "id": "4SrI5LWUBHt6",
        "colab_type": "code",
        "colab": {}
      },
      "source": [
        "def Vanilla_stars(n=5):\n",
        "  for row  in range(1,n):\n",
        "      for star in range(row):\n",
        "          print ('*' ,end=\"\")#end make sure the next star is in same line\n",
        "      print('')\n",
        "\n",
        "  for row in range(n,0,-1):\n",
        "      for star in range(row):\n",
        "          print('*', end=\"\")\n",
        "      print('')"
      ],
      "execution_count": 8,
      "outputs": []
    },
    {
      "cell_type": "code",
      "metadata": {
        "id": "F0s7AIusHMkT",
        "colab_type": "code",
        "colab": {
          "base_uri": "https://localhost:8080/",
          "height": 173
        },
        "outputId": "7a7e448d-c925-4490-889d-e6bfc6306304"
      },
      "source": [
        "Vanilla_stars(n=5)"
      ],
      "execution_count": 9,
      "outputs": [
        {
          "output_type": "stream",
          "text": [
            "*\n",
            "**\n",
            "***\n",
            "****\n",
            "*****\n",
            "****\n",
            "***\n",
            "**\n",
            "*\n"
          ],
          "name": "stdout"
        }
      ]
    },
    {
      "cell_type": "code",
      "metadata": {
        "id": "3b5-rhc2HThS",
        "colab_type": "code",
        "colab": {
          "base_uri": "https://localhost:8080/",
          "height": 347
        },
        "outputId": "7dbacfbc-4838-4838-be81-5da2dc657276"
      },
      "source": [
        "Vanilla_stars(n=10)"
      ],
      "execution_count": 10,
      "outputs": [
        {
          "output_type": "stream",
          "text": [
            "*\n",
            "**\n",
            "***\n",
            "****\n",
            "*****\n",
            "******\n",
            "*******\n",
            "********\n",
            "*********\n",
            "**********\n",
            "*********\n",
            "********\n",
            "*******\n",
            "******\n",
            "*****\n",
            "****\n",
            "***\n",
            "**\n",
            "*\n"
          ],
          "name": "stdout"
        }
      ]
    },
    {
      "cell_type": "markdown",
      "metadata": {
        "id": "KMV_bmK6HsL9",
        "colab_type": "text"
      },
      "source": [
        "Case 2: We can see this a a problem where user specifies not the max length of stars, but number of rows. This gives us two problems \n",
        "\n",
        "\n",
        "1.   Odd number of rows\n",
        "> Here, we can split the height and we have well defined middle row, i.e defined midian.\n",
        "\n",
        "\n",
        "2.   Even number of rows\n",
        "> Here, Height will be shared as even will have two medians.\n",
        "\n",
        "We try to see problem holistically, Considering how our function will be and can be used.\n",
        "\n"
      ]
    },
    {
      "cell_type": "code",
      "metadata": {
        "id": "LLtAlWFS749v",
        "colab_type": "code",
        "colab": {}
      },
      "source": [
        "def stars(n_rows=9):\n",
        "  if n_rows%2:\n",
        "    n_rows=n_rows+1\n",
        "    half= int((n_rows/2)+1)\n",
        "    sta_1 = ['*'*x for x in range(1,half,1)]\n",
        "    sta_2 = [x for x in [x for x in sta_1[:-1]][::-1]]\n",
        "    sta_1 =sta_1+sta_2\n",
        "    for star in sta_1:\n",
        "      print(star)\n",
        "  else:\n",
        "    half= int(n_rows/2)+1\n",
        "    sta_1 = ['*'*x for x in range(1,half,1)]\n",
        "    sta_2 = sta_1[::-1]\n",
        "    sta_1 = sta_1+sta_2\n",
        "    for star in sta_1:\n",
        "      print(star)\n"
      ],
      "execution_count": 11,
      "outputs": []
    },
    {
      "cell_type": "code",
      "metadata": {
        "id": "rNFN6dPL6_qd",
        "colab_type": "code",
        "colab": {
          "base_uri": "https://localhost:8080/",
          "height": 173
        },
        "outputId": "e6eccc1b-bf97-4300-8996-9b5f228b4518"
      },
      "source": [
        "#For odd n_rows= 9\n",
        "stars()"
      ],
      "execution_count": 12,
      "outputs": [
        {
          "output_type": "stream",
          "text": [
            "*\n",
            "**\n",
            "***\n",
            "****\n",
            "*****\n",
            "****\n",
            "***\n",
            "**\n",
            "*\n"
          ],
          "name": "stdout"
        }
      ]
    },
    {
      "cell_type": "code",
      "metadata": {
        "id": "_XQ7bQ0ZPUrV",
        "colab_type": "code",
        "colab": {
          "base_uri": "https://localhost:8080/",
          "height": 225
        },
        "outputId": "691c327b-4c77-4ac0-8e76-b8cebb830f45"
      },
      "source": [
        "#For Even n_rows= 12\n",
        "stars(12)"
      ],
      "execution_count": 13,
      "outputs": [
        {
          "output_type": "stream",
          "text": [
            "*\n",
            "**\n",
            "***\n",
            "****\n",
            "*****\n",
            "******\n",
            "******\n",
            "*****\n",
            "****\n",
            "***\n",
            "**\n",
            "*\n"
          ],
          "name": "stdout"
        }
      ]
    },
    {
      "cell_type": "markdown",
      "metadata": {
        "id": "6jxu0tqiJmXL",
        "colab_type": "text"
      },
      "source": [
        "Q3: Write a Python program to reverse a word after accepting the input from the user.\n",
        "\n",
        "Input word: ineuron\n",
        "\n",
        "Output: norueni\n"
      ]
    },
    {
      "cell_type": "code",
      "metadata": {
        "id": "DiNIiccUPWoe",
        "colab_type": "code",
        "colab": {}
      },
      "source": [
        "def rev_name():\n",
        "  word=str(input('Enter your word:'))\n",
        "  return word[::-1]"
      ],
      "execution_count": 14,
      "outputs": []
    },
    {
      "cell_type": "code",
      "metadata": {
        "id": "tmvXLeSyJlAI",
        "colab_type": "code",
        "colab": {
          "base_uri": "https://localhost:8080/",
          "height": 53
        },
        "outputId": "1cfdb6e4-1d46-49b1-e8a5-f67d63f9c861"
      },
      "source": [
        "#testing for ineuron\n",
        "rev_name()"
      ],
      "execution_count": 15,
      "outputs": [
        {
          "output_type": "stream",
          "text": [
            "Enter your word:Neptune\n"
          ],
          "name": "stdout"
        },
        {
          "output_type": "execute_result",
          "data": {
            "application/vnd.google.colaboratory.intrinsic+json": {
              "type": "string"
            },
            "text/plain": [
              "'enutpeN'"
            ]
          },
          "metadata": {
            "tags": []
          },
          "execution_count": 15
        }
      ]
    },
    {
      "cell_type": "markdown",
      "metadata": {
        "id": "Z2ukcqDdK4-p",
        "colab_type": "text"
      },
      "source": [
        "# Assignment 3"
      ]
    },
    {
      "cell_type": "markdown",
      "metadata": {
        "id": "I6J7uZApL2Ys",
        "colab_type": "text"
      },
      "source": [
        "Q.1 Write a Python Program to implement your own myreduce() function which works exactly\n",
        "like Python's built-in function reduce()\n",
        "few touch points \n",
        "1.   function input  must be a function that takes two elements and returns a single value. Standard python reduce behaviour [read here](https://docs.python.org/3/howto/functional.html)\n",
        "2.   concepts covered like : Iterator is an object.\n",
        "\n",
        "An Iterable is a simple representation of a series of elements that can be iterated over. It does not have any iteration state such as a \"current element\". Instead, it has  method that produces an Iterator, method like iter\n",
        "\n",
        "\n"
      ]
    },
    {
      "cell_type": "code",
      "metadata": {
        "id": "pELP1wu7AIeN",
        "colab_type": "code",
        "colab": {}
      },
      "source": [
        "def my_reduce(function, iterable, initializer=None):\n",
        "    it = iter(iterable)\n",
        "    if initializer is None:\n",
        "        value = next(it)\n",
        "    else:\n",
        "        value = initializer\n",
        "    for element in it:\n",
        "        value = function(value, element)\n",
        "    return value"
      ],
      "execution_count": 16,
      "outputs": []
    },
    {
      "cell_type": "code",
      "metadata": {
        "id": "weNEvgYyTts0",
        "colab_type": "code",
        "colab": {
          "base_uri": "https://localhost:8080/",
          "height": 35
        },
        "outputId": "29c1bafb-e5cf-4ac5-c588-0b52e26fe156"
      },
      "source": [
        "def square(x,y):\n",
        "  return x**y\n",
        "print(my_reduce(square,[2,3,4]))#(2**3)**4\n",
        "assert my_reduce(square,[2,3,4])==(2**3)**4#No error"
      ],
      "execution_count": 17,
      "outputs": [
        {
          "output_type": "stream",
          "text": [
            "4096\n"
          ],
          "name": "stdout"
        }
      ]
    },
    {
      "cell_type": "markdown",
      "metadata": {
        "id": "DSzYBxbJYNxR",
        "colab_type": "text"
      },
      "source": [
        "Q.2 Write a Python program to implement your own myfilter() function which works exactly\n",
        "like Python's built-in function filter()"
      ]
    },
    {
      "cell_type": "code",
      "metadata": {
        "id": "1zhfO1SjT02h",
        "colab_type": "code",
        "colab": {}
      },
      "source": [
        "def my_filter(function, iterable):\n",
        "  if function!=None:\n",
        "    return [item for item in iter(iterable) if function(item)]\n",
        "  else:\n",
        "    return [item for item in iter(iterable) if item]"
      ],
      "execution_count": 18,
      "outputs": []
    },
    {
      "cell_type": "code",
      "metadata": {
        "id": "9E__L92_T5SF",
        "colab_type": "code",
        "colab": {
          "base_uri": "https://localhost:8080/",
          "height": 52
        },
        "outputId": "d6e4097e-42fb-4033-befb-4e9d5a0907ef"
      },
      "source": [
        "import numpy as np\n",
        "Accuracy = np.random.randint(20,100,100)\n",
        "print(f'{sum(Accuracy>90)}\\n{Accuracy[Accuracy>90]}')"
      ],
      "execution_count": 19,
      "outputs": [
        {
          "output_type": "stream",
          "text": [
            "11\n",
            "[98 98 96 96 96 93 99 96 91 92 95]\n"
          ],
          "name": "stdout"
        }
      ]
    },
    {
      "cell_type": "code",
      "metadata": {
        "id": "kmuknnDuVFR7",
        "colab_type": "code",
        "colab": {
          "base_uri": "https://localhost:8080/",
          "height": 52
        },
        "outputId": "cb9ab795-6451-4e3b-a59e-ae15a7ded619"
      },
      "source": [
        "def myFunc(x):\n",
        "  if x <= 90:\n",
        "    return False\n",
        "  else:\n",
        "    return True\n",
        "print(f'{len(my_filter(myFunc,Accuracy))}\\n{my_filter(myFunc,Accuracy)}')"
      ],
      "execution_count": 20,
      "outputs": [
        {
          "output_type": "stream",
          "text": [
            "11\n",
            "[98, 98, 96, 96, 96, 93, 99, 96, 91, 92, 95]\n"
          ],
          "name": "stdout"
        }
      ]
    },
    {
      "cell_type": "markdown",
      "metadata": {
        "id": "eIepCLBctrOb",
        "colab_type": "text"
      },
      "source": [
        "Q2: Implement List comprehensions to produce the following lists.\n",
        "Write List comprehensions to produce the following Lists\n",
        ">P1:['x', 'xx', 'xxx', 'xxxx', 'y', 'yy', 'yyy', 'yyyy', 'z', 'zz', 'zzz', 'zzzz']\n",
        "\n",
        ">P2:['x', 'y', 'z', 'xx', 'yy', 'zz', 'xxx', 'yyy', 'zzz', 'xxxx', 'yyyy', 'zzzz']\n",
        "\n",
        ">P3:[[2], [3], [4], [3], [4], [5], [4], [5], [6]] \n",
        "\n",
        ">P4:[[2, 3, 4, 5], [3, 4, 5, 6],[4, 5, 6, 7], [5, 6, 7, 8]]\n",
        "\n",
        ">P5:[(1, 1), (2, 1), (3, 1), (1, 2), (2, 2), (3, 2), (1, 3), (2, 3), (3, 3)]"
      ]
    },
    {
      "cell_type": "code",
      "metadata": {
        "id": "apOYZWdCXOfm",
        "colab_type": "code",
        "colab": {
          "base_uri": "https://localhost:8080/",
          "height": 104
        },
        "outputId": "35d7497b-732c-4a83-b284-bbbd3e6efc39"
      },
      "source": [
        "'''\n",
        "Before we proceed with P1, P2 we ought to remember , list comprehension is a for loop\n",
        "and can also make inner loops functionality.\n",
        "for P1: word in iter('xyz') THIS IS OUTER LOOP\n",
        "        for multiplier in range(1,5) THIS IS INNER LOOP\n",
        "As, side note to begginners remember : one outer loop cycle , covers complete loop of inner.\n",
        "'''\n",
        "P1=[word*multiplier for word in iter('xyz') for multiplier in range(1,5)]\n",
        "print(f'P1:{P1}')\n",
        "'''For P2: outer loop is excahnged as required '''\n",
        "P2=[word*multiplier for multiplier in range(1,5) for word in iter('xyz')]\n",
        "print(f'P2:{P2}')\n",
        "P3=[[x+y] for x in range(2,5) for y in range(3)]\n",
        "print(f'P3:{P3}')\n",
        "P4=[list(range(x,x+4,1)) for x in [y  for y in range(2,6)]]\n",
        "print(f'P4:{P4}')\n",
        "P5=[(x,y) for y in range(1,4) for x in range(1,4)]\n",
        "print(f'P5:{P5}')"
      ],
      "execution_count": 21,
      "outputs": [
        {
          "output_type": "stream",
          "text": [
            "P1:['x', 'xx', 'xxx', 'xxxx', 'y', 'yy', 'yyy', 'yyyy', 'z', 'zz', 'zzz', 'zzzz']\n",
            "P2:['x', 'y', 'z', 'xx', 'yy', 'zz', 'xxx', 'yyy', 'zzz', 'xxxx', 'yyyy', 'zzzz']\n",
            "P3:[[2], [3], [4], [3], [4], [5], [4], [5], [6]]\n",
            "P4:[[2, 3, 4, 5], [3, 4, 5, 6], [4, 5, 6, 7], [5, 6, 7, 8]]\n",
            "P5:[(1, 1), (2, 1), (3, 1), (1, 2), (2, 2), (3, 2), (1, 3), (2, 3), (3, 3)]\n"
          ],
          "name": "stdout"
        }
      ]
    },
    {
      "cell_type": "markdown",
      "metadata": {
        "id": "tGkY1vhFZfWe",
        "colab_type": "text"
      },
      "source": [
        "# Assignemnt 4\n"
      ]
    },
    {
      "cell_type": "markdown",
      "metadata": {
        "id": "x76k3ZLMaJL8",
        "colab_type": "text"
      },
      "source": [
        "Q1:Write a Python Program(with class concepts) to find the area of the triangle using the below formula.\n",
        ">area = (s*(s-a)*(s-b)*(s-c))***0.5\n",
        "\n",
        "Function to take the length of the sides of triangle from user should be defined in the parent class and function to calculate the area should be defined in subclass"
      ]
    },
    {
      "cell_type": "code",
      "metadata": {
        "id": "90msSi6MAJmr",
        "colab_type": "code",
        "colab": {}
      },
      "source": [
        "class triangle():\n",
        "  \n",
        "  def __init__(self, a=1, b=2, c=3 ):\n",
        "    self.sideA=a\n",
        "    self.sideB=b\n",
        "    self.sideC=c\n",
        "  def area(self):\n",
        "\n",
        "    s=(self.sideA+self.sideB+self.sideC)/2\n",
        "    return (s*(s-self.sideA)*(s-self.sideB)*(s-self.sideC))**0.5"
      ],
      "execution_count": 22,
      "outputs": []
    },
    {
      "cell_type": "code",
      "metadata": {
        "id": "TVWnfh9XaAdR",
        "colab_type": "code",
        "colab": {
          "base_uri": "https://localhost:8080/",
          "height": 69
        },
        "outputId": "38dd0ec7-481f-473b-fc1d-92df386ce76f"
      },
      "source": [
        "my_first_triangle = triangle(3,4,5)\n",
        "print(f'Checking available attributes and methods \\n{dir(my_first_triangle)[-4:]}')\n",
        "print(f'Are of our triangke is {my_first_triangle.area()}')"
      ],
      "execution_count": 23,
      "outputs": [
        {
          "output_type": "stream",
          "text": [
            "Checking available attributes and methods \n",
            "['area', 'sideA', 'sideB', 'sideC']\n",
            "Are of our triangke is 6.0\n"
          ],
          "name": "stdout"
        }
      ]
    },
    {
      "cell_type": "markdown",
      "metadata": {
        "id": "6VyqVbx9khkc",
        "colab_type": "text"
      },
      "source": [
        "Q1.2 Write a function filter_long_words() that takes a list of words and an integer n and returns the list of words that are longer than n."
      ]
    },
    {
      "cell_type": "code",
      "metadata": {
        "id": "Bg7ekPsIaAR-",
        "colab_type": "code",
        "colab": {
          "base_uri": "https://localhost:8080/",
          "height": 35
        },
        "outputId": "7c9e4389-d3d8-44e8-9a8f-9a0e698ed5fd"
      },
      "source": [
        "words_filter = lambda words,n:  [x for x in words if len(x)>n]\n",
        "words_filter(['Assam','Paris','Remdesivir','Jonathan','Instant'],6)"
      ],
      "execution_count": 24,
      "outputs": [
        {
          "output_type": "execute_result",
          "data": {
            "text/plain": [
              "['Remdesivir', 'Jonathan', 'Instant']"
            ]
          },
          "metadata": {
            "tags": []
          },
          "execution_count": 24
        }
      ]
    },
    {
      "cell_type": "markdown",
      "metadata": {
        "id": "8sxZ2f862fGX",
        "colab_type": "text"
      },
      "source": [
        "2.1 Write a Python program using function concept that maps list of words into a list of integers representing the lengths of the corresponding words. Hint: If a list [ ab,cde,erty] is passed on to the python function output should come as [2,3,4]\n",
        "Here 2,3 and 4 are the lengths of the words in the list."
      ]
    },
    {
      "cell_type": "code",
      "metadata": {
        "id": "SJrGKy-FX91m",
        "colab_type": "code",
        "colab": {
          "base_uri": "https://localhost:8080/",
          "height": 52
        },
        "outputId": "4d1f5507-e4ac-4bca-ac88-bc5ad9043385"
      },
      "source": [
        "def words_len( list_of_words =['Assam','Paris','Remdesivir','Jonathan','Instant']):\n",
        "  return list(map(lambda x:len(x),list_of_words))\n",
        "print(f'[Assam,Paris,Remdesivir,Jonathan,Instant] has length of \\n{ words_len()} characters')"
      ],
      "execution_count": 25,
      "outputs": [
        {
          "output_type": "stream",
          "text": [
            "[Assam,Paris,Remdesivir,Jonathan,Instant] has length of \n",
            "[5, 5, 10, 8, 7] characters\n"
          ],
          "name": "stdout"
        }
      ]
    },
    {
      "cell_type": "markdown",
      "metadata": {
        "id": "5K1aDdM440Rv",
        "colab_type": "text"
      },
      "source": [
        "2.2 Write a Python function which takes a character (i.e. a string of length 1) and returns True if it is a vowel, False otherwise."
      ]
    },
    {
      "cell_type": "code",
      "metadata": {
        "id": "wXFYBLj4sPJf",
        "colab_type": "code",
        "colab": {}
      },
      "source": [
        " has_vowel =lambda x : x in 'aeiou'"
      ],
      "execution_count": 26,
      "outputs": []
    },
    {
      "cell_type": "code",
      "metadata": {
        "id": "fEawQi_LuEqV",
        "colab_type": "code",
        "colab": {
          "base_uri": "https://localhost:8080/",
          "height": 35
        },
        "outputId": "6146f6f1-ec11-4346-f63f-3021f323cef9"
      },
      "source": [
        "'''Using filter to loop over all characters of english'''\n",
        "list(filter(has_vowel,'abcdedfgijklmnopqrstuvwqyz'))"
      ],
      "execution_count": 27,
      "outputs": [
        {
          "output_type": "execute_result",
          "data": {
            "text/plain": [
              "['a', 'e', 'i', 'o', 'u']"
            ]
          },
          "metadata": {
            "tags": []
          },
          "execution_count": 27
        }
      ]
    }
  ]
}