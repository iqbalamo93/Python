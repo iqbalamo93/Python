{
 "cells": [
  {
   "cell_type": "markdown",
   "metadata": {},
   "source": [
    "## Sqlite3\n",
    "The sqlite3 built-in module within Python. SQLite allows us to quickly get up and running with databases, without spinning up larger databases like MySQL or Postgres. We will be creating a database, creating a table, insert, select, update, and delete data."
   ]
  },
  {
   "cell_type": "code",
   "execution_count": 1,
   "metadata": {},
   "outputs": [],
   "source": [
    "class Employee:\n",
    "    '''A sample employee class'''\n",
    "    \n",
    "    def __init__(self, first,last, pay ):\n",
    "        self.first = first\n",
    "        self.last = last\n",
    "        self.pay = pay\n",
    "        \n",
    "    @property\n",
    "    def email(self):\n",
    "        return f'{self.first}.{self.last}@email.com'\n",
    "    \n",
    "    @property\n",
    "    def full_name(self):\n",
    "        return f'{self.first}, {self.last}'\n",
    "    \n",
    "    def __repr__(self):\n",
    "        return f'{self.first}, {self.last}, {self.pay}'"
   ]
  },
  {
   "cell_type": "code",
   "execution_count": 2,
   "metadata": {},
   "outputs": [],
   "source": [
    "import sqlite3"
   ]
  },
  {
   "cell_type": "markdown",
   "metadata": {},
   "source": [
    "## 1: Create a connection \n",
    "\n",
    "- sqlite3.connect() method"
   ]
  },
  {
   "cell_type": "code",
   "execution_count": 3,
   "metadata": {},
   "outputs": [],
   "source": [
    "conn = sqlite3.connect('employee.db')\n",
    "#conn = sqlite3.connect(':memory:')# TO create in memory db i.e RAM Database\n",
    "# Connect method creats the file if that doesn't exist"
   ]
  },
  {
   "cell_type": "code",
   "execution_count": 4,
   "metadata": {},
   "outputs": [
    {
     "name": "stdout",
     "output_type": "stream",
     "text": [
      "<class 'sqlite3.Connection'>\n"
     ]
    }
   ],
   "source": [
    "print(type(conn))"
   ]
  },
  {
   "cell_type": "markdown",
   "metadata": {},
   "source": [
    "## 2: Create a cursor.\n",
    "- This allow us to execute sql commands\n",
    "- cursor method on connection object"
   ]
  },
  {
   "cell_type": "code",
   "execution_count": 6,
   "metadata": {},
   "outputs": [],
   "source": [
    "c = conn.cursor()"
   ]
  },
  {
   "cell_type": "markdown",
   "metadata": {},
   "source": [
    "## 3: Execute queries\n",
    "\n",
    "- execute method on c"
   ]
  },
  {
   "cell_type": "code",
   "execution_count": 23,
   "metadata": {},
   "outputs": [],
   "source": [
    "command = ''' CREATE TABLE employee(\n",
    "                first TEXT,\n",
    "                last  TEXT,\n",
    "                pay   INTEGER)'''\n",
    "\n",
    "c.execute(command)"
   ]
  },
  {
   "cell_type": "markdown",
   "metadata": {},
   "source": [
    "## 4: Commit & Close \n",
    " - On connection"
   ]
  },
  {
   "cell_type": "code",
   "execution_count": 28,
   "metadata": {},
   "outputs": [],
   "source": [
    "conn.commit()\n",
    "conn.close()"
   ]
  },
  {
   "cell_type": "markdown",
   "metadata": {},
   "source": [
    "## Inserts toDB"
   ]
  },
  {
   "cell_type": "code",
   "execution_count": 29,
   "metadata": {},
   "outputs": [],
   "source": [
    "#REMEMBER: CREATE A CONNECTION OBJECT AND CURSOR MENTHOD ON THAT OBJECT\n",
    "conn = sqlite3.connect('employee.db')\n",
    "c = conn.cursor()"
   ]
  },
  {
   "cell_type": "code",
   "execution_count": 31,
   "metadata": {},
   "outputs": [],
   "source": [
    "Insert_statement = ''' INSERT INTO employee VALUES('Iqbal','Singh',200000)\n",
    "                    '''"
   ]
  },
  {
   "cell_type": "code",
   "execution_count": 32,
   "metadata": {},
   "outputs": [],
   "source": [
    "c.execute(Insert_statement)\n",
    "conn.commit()"
   ]
  },
  {
   "cell_type": "markdown",
   "metadata": {},
   "source": [
    "## Selection"
   ]
  },
  {
   "cell_type": "code",
   "execution_count": 34,
   "metadata": {},
   "outputs": [],
   "source": [
    "conn = sqlite3.connect('employee.db')\n",
    "c = conn.cursor()"
   ]
  },
  {
   "cell_type": "code",
   "execution_count": 40,
   "metadata": {},
   "outputs": [],
   "source": [
    "Select_statement = '''SELECT * FROM employee '''"
   ]
  },
  {
   "cell_type": "code",
   "execution_count": 46,
   "metadata": {},
   "outputs": [
    {
     "data": {
      "text/plain": [
       "<sqlite3.Cursor at 0x7fec2ca8d880>"
      ]
     },
     "execution_count": 46,
     "metadata": {},
     "output_type": "execute_result"
    }
   ],
   "source": [
    "c.execute(Select_statement)"
   ]
  },
  {
   "cell_type": "code",
   "execution_count": 42,
   "metadata": {},
   "outputs": [
    {
     "data": {
      "text/plain": [
       "[('Iqbal', 'Singh', 200000)]"
      ]
     },
     "execution_count": 42,
     "metadata": {},
     "output_type": "execute_result"
    }
   ],
   "source": [
    "#fetchall, fetchone, fetch many\n",
    "c.fetchall()"
   ]
  },
  {
   "cell_type": "code",
   "execution_count": 45,
   "metadata": {},
   "outputs": [
    {
     "data": {
      "text/plain": [
       "('Iqbal', 'Singh', 200000)"
      ]
     },
     "execution_count": 45,
     "metadata": {},
     "output_type": "execute_result"
    }
   ],
   "source": [
    "c.fetchone()"
   ]
  },
  {
   "cell_type": "code",
   "execution_count": 47,
   "metadata": {},
   "outputs": [
    {
     "data": {
      "text/plain": [
       "[('Iqbal', 'Singh', 200000)]"
      ]
     },
     "execution_count": 47,
     "metadata": {},
     "output_type": "execute_result"
    }
   ],
   "source": [
    "c.fetchmany(3)#returns N number of rows"
   ]
  },
  {
   "cell_type": "markdown",
   "metadata": {},
   "source": [
    "## Passing variables\n",
    "\n",
    "- use ? for placeholders ->tuple is used to pass values\n",
    "- use :placeholder for placeholders ->Dictionary is used to pass values\n",
    "  -:key and"
   ]
  },
  {
   "cell_type": "code",
   "execution_count": 48,
   "metadata": {},
   "outputs": [],
   "source": [
    "emp_1 = Employee('John','Doe',80000)\n",
    "emp_2 = Employee('Mary','Doe',80000)\n",
    "emp_3 = Employee('Jim','Torey',80000)"
   ]
  },
  {
   "cell_type": "code",
   "execution_count": 49,
   "metadata": {},
   "outputs": [
    {
     "data": {
      "text/plain": [
       "<sqlite3.Cursor at 0x7fec2ca8d880>"
      ]
     },
     "execution_count": 49,
     "metadata": {},
     "output_type": "execute_result"
    }
   ],
   "source": [
    "#Method 1: Not so preffered, here tuple is used to pass values\n",
    "c.execute('INSERT INTO employee values(?,?,?)',(emp_1.first ,emp_1.last ,emp_1.pay ))\n",
    "conn.commit()"
   ]
  },
  {
   "cell_type": "code",
   "execution_count": 50,
   "metadata": {},
   "outputs": [
    {
     "data": {
      "text/plain": [
       "<sqlite3.Cursor at 0x7fec2ca8d880>"
      ]
     },
     "execution_count": 50,
     "metadata": {},
     "output_type": "execute_result"
    }
   ],
   "source": [
    "# Mthod 2: Right way\n",
    "c.execute('INSERT INTO employee values(:first, :last, :pay )',{'first':emp_2.first,\n",
    "                                                               'last':emp_2.last, 'pay':emp_2.pay })\n",
    "conn.commit()"
   ]
  },
  {
   "cell_type": "code",
   "execution_count": 51,
   "metadata": {},
   "outputs": [
    {
     "data": {
      "text/plain": [
       "<sqlite3.Cursor at 0x7fec2ca8d880>"
      ]
     },
     "execution_count": 51,
     "metadata": {},
     "output_type": "execute_result"
    }
   ],
   "source": [
    "# Mthod 2: Right way\n",
    "c.execute('INSERT INTO employee values(:first, :last, :pay )',{'first':emp_3.first,\n",
    "                                                               'last':emp_3.last, 'pay':emp_3.pay })\n",
    "conn.commit()"
   ]
  },
  {
   "cell_type": "code",
   "execution_count": 54,
   "metadata": {},
   "outputs": [
    {
     "data": {
      "text/plain": [
       "[('John', 'Doe', 80000), ('Mary', 'Doe', 80000)]"
      ]
     },
     "execution_count": 54,
     "metadata": {},
     "output_type": "execute_result"
    }
   ],
   "source": [
    "c.execute('''SELECT * FROM employee where last = ?''',('Doe',))#This comma after Doe is confusing\n",
    "c.fetchall()"
   ]
  },
  {
   "cell_type": "code",
   "execution_count": 58,
   "metadata": {},
   "outputs": [
    {
     "data": {
      "text/plain": [
       "[('John', 'Doe', 80000), ('Mary', 'Doe', 80000)]"
      ]
     },
     "execution_count": 58,
     "metadata": {},
     "output_type": "execute_result"
    }
   ],
   "source": [
    "c.execute('''SELECT * FROM employee where last = :last ''',{'last':'Doe'})\n",
    "c.fetchall()\n",
    "conn.close()"
   ]
  },
  {
   "cell_type": "markdown",
   "metadata": {},
   "source": [
    "# In Memory DATABASE \n",
    "- Every run creates a new db instance"
   ]
  },
  {
   "cell_type": "code",
   "execution_count": 87,
   "metadata": {},
   "outputs": [
    {
     "data": {
      "text/plain": [
       "[('Jim', 'Torey', 80000)]"
      ]
     },
     "execution_count": 87,
     "metadata": {},
     "output_type": "execute_result"
    }
   ],
   "source": [
    "conn = sqlite3.connect(':memory:')\n",
    "c = conn.cursor()\n",
    "command = ''' CREATE TABLE employee(\n",
    "                first TEXT,\n",
    "                last  TEXT,\n",
    "                pay   INTEGER)'''\n",
    "c.execute(command)\n",
    "emp_1 = Employee('John','Doe',80000)\n",
    "emp_2 = Employee('Mary','Doe',80000)\n",
    "emp_3 = Employee('Jim','Torey',80000)\n",
    "for emp in [emp_1,emp_2,emp_3]:\n",
    "    c.execute('INSERT INTO employee values(:first, :last, :pay )',{'first':emp.first,\n",
    "                                                               'last':emp.last, 'pay':emp.pay })\n",
    "    conn.commit()\n",
    "c.execute('''SELECT * FROM employee where last = ?''',('Doe',))#This comma after Doe is confusing\n",
    "c.execute('''SELECT * FROM employee where last =:last''',{'last':'Torey'})#Right way\n",
    "c.fetchall()"
   ]
  },
  {
   "cell_type": "code",
   "execution_count": 88,
   "metadata": {},
   "outputs": [],
   "source": [
    "conn.close()"
   ]
  },
  {
   "cell_type": "markdown",
   "metadata": {},
   "source": [
    "# Creating App like structure!\n",
    "\n",
    "- Here we used <b>with</b> statement to pass commit typing everytime, for INSERT, UPDATE, DELETE!!"
   ]
  },
  {
   "cell_type": "code",
   "execution_count": 114,
   "metadata": {},
   "outputs": [],
   "source": [
    "conn = sqlite3.connect(':memory:')\n",
    "c = conn.cursor()\n",
    "\n",
    "command = ''' CREATE TABLE employee(\n",
    "                first TEXT,\n",
    "                last  TEXT,\n",
    "                pay   INTEGER)'''\n",
    "\n",
    "c.execute(command)\n",
    "\n",
    "def insert_emp(emp):\n",
    "    with conn:\n",
    "        c.execute('INSERT INTO employee VALUES(:first, :last, :pay)',{'first':emp.first,'last':emp.last, \n",
    "                                                                     'pay':emp.pay})\n",
    "def get_emps_by_name(lastname):#Select needs no commit    \n",
    "    c.execute('SELECT * FROM employee where last =:last',{'last':lastname})\n",
    "    return c.fetchall()\n",
    "    \n",
    "def update_pay(emp, pay):#DML statement Hence, CONTEXT Manager.\n",
    "    with conn:\n",
    "        c.execute('''UPDATE employee SET pay =:pay\n",
    "                    WHERE first =:first AND last=:last''',{'first':emp.first,'last':emp.last,'pay':pay})\n",
    "def remove_emp(emp):\n",
    "    with conn:\n",
    "        c.execute('''DELETE FROM employee WHERE first =:first AND last =:last''', \n",
    "                 {'first':emp.first, 'last':emp.last})\n",
    "    "
   ]
  },
  {
   "cell_type": "code",
   "execution_count": 115,
   "metadata": {},
   "outputs": [],
   "source": [
    "emp_1 = Employee('John','Doe',80000)\n",
    "emp_2 = Employee('Mary','Doe',80000)\n",
    "emp_3 = Employee('Jim','Torey',80000)"
   ]
  },
  {
   "cell_type": "code",
   "execution_count": 116,
   "metadata": {},
   "outputs": [],
   "source": [
    "insert_emp(emp_1)\n",
    "insert_emp(emp_2)\n",
    "insert_emp(emp_3)"
   ]
  },
  {
   "cell_type": "code",
   "execution_count": 117,
   "metadata": {},
   "outputs": [
    {
     "name": "stdout",
     "output_type": "stream",
     "text": [
      "[('John', 'Doe', 80000), ('Mary', 'Doe', 80000)]\n"
     ]
    }
   ],
   "source": [
    "emps = get_emps_by_name('Doe')\n",
    "print(emps)"
   ]
  },
  {
   "cell_type": "code",
   "execution_count": 118,
   "metadata": {},
   "outputs": [],
   "source": [
    "update_pay(emp_3,95000)"
   ]
  },
  {
   "cell_type": "code",
   "execution_count": 119,
   "metadata": {},
   "outputs": [
    {
     "name": "stdout",
     "output_type": "stream",
     "text": [
      "[('Jim', 'Torey', 95000)]\n"
     ]
    }
   ],
   "source": [
    "emps = get_emps_by_name('Torey')\n",
    "print(emps)"
   ]
  },
  {
   "cell_type": "code",
   "execution_count": 122,
   "metadata": {},
   "outputs": [],
   "source": [
    "remove_emp(emp_2)"
   ]
  },
  {
   "cell_type": "code",
   "execution_count": 123,
   "metadata": {},
   "outputs": [
    {
     "name": "stdout",
     "output_type": "stream",
     "text": [
      "[('John', 'Doe', 80000)]\n"
     ]
    }
   ],
   "source": [
    "emps = get_emps_by_name(emp_2.last)\n",
    "print(emps)"
   ]
  },
  {
   "cell_type": "code",
   "execution_count": 124,
   "metadata": {},
   "outputs": [],
   "source": [
    "conn.close()"
   ]
  },
  {
   "cell_type": "code",
   "execution_count": 125,
   "metadata": {},
   "outputs": [
    {
     "ename": "ProgrammingError",
     "evalue": "Cannot operate on a closed database.",
     "output_type": "error",
     "traceback": [
      "\u001b[0;31m---------------------------------------------------------------------------\u001b[0m",
      "\u001b[0;31mProgrammingError\u001b[0m                          Traceback (most recent call last)",
      "\u001b[0;32m<ipython-input-125-93d49c919eb7>\u001b[0m in \u001b[0;36m<module>\u001b[0;34m\u001b[0m\n\u001b[0;32m----> 1\u001b[0;31m \u001b[0mget_emps_by_name\u001b[0m\u001b[0;34m(\u001b[0m\u001b[0;34m'Torey'\u001b[0m\u001b[0;34m)\u001b[0m\u001b[0;34m\u001b[0m\u001b[0;34m\u001b[0m\u001b[0m\n\u001b[0m",
      "\u001b[0;32m<ipython-input-114-8baa5d2bbbfb>\u001b[0m in \u001b[0;36mget_emps_by_name\u001b[0;34m(lastname)\u001b[0m\n\u001b[1;32m     14\u001b[0m                                                                      'pay':emp.pay})\n\u001b[1;32m     15\u001b[0m \u001b[0;32mdef\u001b[0m \u001b[0mget_emps_by_name\u001b[0m\u001b[0;34m(\u001b[0m\u001b[0mlastname\u001b[0m\u001b[0;34m)\u001b[0m\u001b[0;34m:\u001b[0m\u001b[0;31m#Select needs no commit\u001b[0m\u001b[0;34m\u001b[0m\u001b[0;34m\u001b[0m\u001b[0m\n\u001b[0;32m---> 16\u001b[0;31m     \u001b[0mc\u001b[0m\u001b[0;34m.\u001b[0m\u001b[0mexecute\u001b[0m\u001b[0;34m(\u001b[0m\u001b[0;34m'SELECT * FROM employee where last =:last'\u001b[0m\u001b[0;34m,\u001b[0m\u001b[0;34m{\u001b[0m\u001b[0;34m'last'\u001b[0m\u001b[0;34m:\u001b[0m\u001b[0mlastname\u001b[0m\u001b[0;34m}\u001b[0m\u001b[0;34m)\u001b[0m\u001b[0;34m\u001b[0m\u001b[0;34m\u001b[0m\u001b[0m\n\u001b[0m\u001b[1;32m     17\u001b[0m     \u001b[0;32mreturn\u001b[0m \u001b[0mc\u001b[0m\u001b[0;34m.\u001b[0m\u001b[0mfetchall\u001b[0m\u001b[0;34m(\u001b[0m\u001b[0;34m)\u001b[0m\u001b[0;34m\u001b[0m\u001b[0;34m\u001b[0m\u001b[0m\n\u001b[1;32m     18\u001b[0m \u001b[0;34m\u001b[0m\u001b[0m\n",
      "\u001b[0;31mProgrammingError\u001b[0m: Cannot operate on a closed database."
     ]
    }
   ],
   "source": [
    "get_emps_by_name('Torey')"
   ]
  },
  {
   "cell_type": "code",
   "execution_count": null,
   "metadata": {},
   "outputs": [],
   "source": []
  }
 ],
 "metadata": {
  "kernelspec": {
   "display_name": "Python 3",
   "language": "python",
   "name": "python3"
  },
  "language_info": {
   "codemirror_mode": {
    "name": "ipython",
    "version": 3
   },
   "file_extension": ".py",
   "mimetype": "text/x-python",
   "name": "python",
   "nbconvert_exporter": "python",
   "pygments_lexer": "ipython3",
   "version": "3.9.0+"
  }
 },
 "nbformat": 4,
 "nbformat_minor": 4
}
